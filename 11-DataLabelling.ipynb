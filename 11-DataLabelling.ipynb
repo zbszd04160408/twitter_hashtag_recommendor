{
 "cells": [
  {
   "cell_type": "code",
   "execution_count": 1,
   "metadata": {},
   "outputs": [],
   "source": [
    "import pandas as pd"
   ]
  },
  {
   "cell_type": "code",
   "execution_count": 142,
   "metadata": {},
   "outputs": [
    {
     "name": "stdout",
     "output_type": "stream",
     "text": [
      "76037\n",
      "38251\n",
      "37282\n"
     ]
    }
   ],
   "source": [
    "tweet_df = pd.read_csv(\"./data/tweets2.csv\")\n",
    "print(len(tweet_df))\n",
    "\n",
    "tweet_df = tweet_df[tweet_df.text.map(lambda x: x.isascii())]\n",
    "print(len(tweet_df))\n",
    "tweet_df = tweet_df.drop_duplicates()\n",
    "print(len(tweet_df))\n"
   ]
  },
  {
   "cell_type": "code",
   "execution_count": 113,
   "metadata": {},
   "outputs": [],
   "source": [
    "def remove_special_char(row):\n",
    "    text = row['text']\n",
    "    text = text.replace(\"\\n\", \" \")\n",
    "    text = text.replace(\"\\t\", \" \")\n",
    "    text = text.replace(\"\\r\", \" \")\n",
    "    return text"
   ]
  },
  {
   "cell_type": "code",
   "execution_count": 114,
   "metadata": {},
   "outputs": [],
   "source": [
    "punc = '''!()-[]{};:'\"\\,<>./?@#$%^&*_~'''\n",
    "def getLabel(row):\n",
    "    text = row['text']\n",
    "    label = \"\"\n",
    "    words = text.split(\" \")\n",
    "    for w in words:\n",
    "        if '#' in w and len(w) > 1:\n",
    "            # print(w)\n",
    "            label = w[w.index('#')+1:]\n",
    "            for ele in label:\n",
    "                    if ele in punc:\n",
    "                        label = label.replace(ele, \"\")\n",
    "            break\n",
    "    return label"
   ]
  },
  {
   "cell_type": "code",
   "execution_count": 162,
   "metadata": {},
   "outputs": [],
   "source": [
    "def get_new_text(row):\n",
    "    text = row['text']\n",
    "    label = row['label']\n",
    "    new_text = []\n",
    "    words = text.split(\" \")\n",
    "    for w in words:\n",
    "        if w in stopword:\n",
    "            continue\n",
    "        # w = label if (\"#\" + label) in w else w\n",
    "        w = '@user' if w.startswith('@') and len(w) > 1 else w\n",
    "        w = 'http' if 'http' in w else w\n",
    "        new_text.append(w)\n",
    "    return \" \".join(new_text)"
   ]
  },
  {
   "cell_type": "code",
   "execution_count": 125,
   "metadata": {},
   "outputs": [
    {
     "name": "stderr",
     "output_type": "stream",
     "text": [
      "[nltk_data] Downloading package stopwords to\n",
      "[nltk_data]     C:\\Users\\Vivian\\AppData\\Roaming\\nltk_data...\n",
      "[nltk_data]   Package stopwords is already up-to-date!\n"
     ]
    }
   ],
   "source": [
    "import nltk \n",
    "nltk.download('stopwords')\n",
    "stopword = nltk.corpus.stopwords.words('english')\n",
    "\n",
    "\n",
    "def get_mask(row):\n",
    "    text = row['text']\n",
    "    new_text = []\n",
    "    words = text.split(\" \")\n",
    "    for w in words:\n",
    "        if w in stopword:\n",
    "            continue\n",
    "        # print(w)\n",
    "        w = '[MASK]' if '#' in w else w\n",
    "        w = '@user' if w.startswith('@') and len(w) > 1 else w\n",
    "        w = 'http' if 'http' in w else w\n",
    "        new_text.append(w)\n",
    "    return \" \".join(new_text)"
   ]
  },
  {
   "cell_type": "code",
   "execution_count": 163,
   "metadata": {},
   "outputs": [
    {
     "name": "stdout",
     "output_type": "stream",
     "text": [
      "31055\n",
      "31055\n",
      "1        Is mora?  Being cute kill perfect Meow Meow Hu...\n",
      "52       Spy x family Ver. Aether&amp;Ayaka  [MASK] [MA...\n",
      "56       Ayaka!! But swimsuit style. &lt;33 (I'm still ...\n",
      "61               Simplemente, Kamisato Ayaka.  [MASK] http\n",
      "66       arriesge banner de ayato solo para acercame al...\n",
      "                               ...                        \n",
      "76017    Penales: El gol de Caruso la atajada de Wysock...\n",
      "76023    [MASK] [MASK] [MASK]   GOOOOOOOOLLLLLLLL de [M...\n",
      "76027    @user Great show always dudes!! Definitely add...\n",
      "76028      @user Buona Pasqua dai mercatini di [MASK] http\n",
      "76032    [MASK] Giuseppe Caruso - La Vita Nel Sud feat....\n",
      "Name: masked_tweet, Length: 31055, dtype: object\n"
     ]
    }
   ],
   "source": [
    "tweet_df['text'] = tweet_df.apply(remove_special_char, axis=1)\n",
    "# print(tweet_df)\n",
    "tweet_df['label'] = tweet_df.apply(getLabel, axis=1)\n",
    "tweet_df['cleaned_tweet'] = tweet_df.apply(get_new_text, axis=1)\n",
    "tweet_df['masked_tweet'] = tweet_df.apply(get_mask, axis=1)\n",
    "tweet_df = tweet_df.drop_duplicates()\n",
    "print(len(tweet_df))\n",
    "tweet_df = tweet_df.drop_duplicates(['masked_tweet'])\n",
    "print(len(tweet_df))\n",
    "print(tweet_df['masked_tweet'])"
   ]
  },
  {
   "cell_type": "code",
   "execution_count": 161,
   "metadata": {},
   "outputs": [],
   "source": [
    "result_df = tweet_df[['cleaned_tweet', 'label']]\n",
    "result_df.to_csv(\"./data/labeled_tweet2.csv\", index=False)\n",
    "\n",
    "masked_df = tweet_df[['masked_tweet']]\n",
    "masked_df.to_csv(\"./data/masked_tweet2.csv\", index=False)\n"
   ]
  }
 ],
 "metadata": {
  "interpreter": {
   "hash": "34c1085476779c4318d7a779ef6e9f651b429bd8bbf389bd944fd591df335044"
  },
  "kernelspec": {
   "display_name": "Python 3.8.8 ('base')",
   "language": "python",
   "name": "python3"
  },
  "language_info": {
   "codemirror_mode": {
    "name": "ipython",
    "version": 3
   },
   "file_extension": ".py",
   "mimetype": "text/x-python",
   "name": "python",
   "nbconvert_exporter": "python",
   "pygments_lexer": "ipython3",
   "version": "3.8.8"
  },
  "orig_nbformat": 4
 },
 "nbformat": 4,
 "nbformat_minor": 2
}
